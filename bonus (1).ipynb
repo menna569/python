{
 "cells": [
  {
   "cell_type": "markdown",
   "id": "bcc8e3e4-d1b4-47b8-8383-e4d17a5b64ee",
   "metadata": {},
   "source": [
    "# Bonus"
   ]
  },
  {
   "cell_type": "markdown",
   "id": "25ba5816-ebe5-4fc2-b235-12ac55b0e8df",
   "metadata": {},
   "source": [
    "**1- Create a Student class.**\n",
    "Attributes: name, roll_number, and marks\n",
    "\n",
    "Method:\n",
    "\n",
    "display() – prints all the student details"
   ]
  },
  {
   "cell_type": "code",
   "execution_count": 9,
   "id": "68084653-1d72-44e4-8d4e-d1a3251d2b97",
   "metadata": {},
   "outputs": [
    {
     "name": "stdout",
     "output_type": "stream",
     "text": [
      "اسم الطالب: منه الله \n",
      "رقم القيد: 202100332\n",
      "الدرجات: 90\n"
     ]
    }
   ],
   "source": [
    "class Student:\n",
    "    def __init__(self, name, roll_number, marks):\n",
    "        self.name = name\n",
    "        self.roll_number = roll_number\n",
    "        self.marks = marks\n",
    "    \n",
    "    def display(self):\n",
    "        print(f\"اسم الطالب: {self.name}\")\n",
    "        print(f\"رقم القيد: {self.roll_number}\")\n",
    "        print(f\"الدرجات: {self.marks}\")\n",
    "\n",
    "# مثال للاستخدام\n",
    "student = Student(\"منه الله \", \"202100332\", 90)\n",
    "student.display()"
   ]
  },
  {
   "cell_type": "markdown",
   "id": "e3d1ac67-9a06-4c0b-937a-b002f33ca3da",
   "metadata": {},
   "source": [
    "**2- Create a class called BankAccount.**\n",
    "Attributes: account_holder, balance (initialize with zero)\n",
    "\n",
    "Methods:\n",
    "\n",
    "deposit(amount)\n",
    "\n",
    "withdraw(amount)\n",
    "\n",
    "get_balance()"
   ]
  },
  {
   "cell_type": "code",
   "execution_count": 4,
   "id": "95a9b4ea-ae1d-4433-aacd-658975892584",
   "metadata": {},
   "outputs": [
    {
     "name": "stdout",
     "output_type": "stream",
     "text": [
      "تم إيداع 2000. الرصيد الحالي: 2000\n",
      "تم سحب 700. الرصيد الحالي: 1300\n",
      "الرصيد النهائي: 1300\n"
     ]
    }
   ],
   "source": [
    "class BankAccount:\n",
    "    def __init__(self, account_holder):\n",
    "        self.account_holder = account_holder\n",
    "        self.balance = 0\n",
    "    \n",
    "    def deposit(self, amount):\n",
    "        self.balance += amount\n",
    "        print(f\"تم إيداع {amount}. الرصيد الحالي: {self.balance}\")\n",
    "    \n",
    "    def withdraw(self, amount):\n",
    "        if amount > self.balance:\n",
    "            print(\"رصيد غير كافي\")\n",
    "        else:\n",
    "            self.balance -= amount\n",
    "            print(f\"تم سحب {amount}. الرصيد الحالي: {self.balance}\")\n",
    "    \n",
    "    def get_balance(self):\n",
    "        return self.balance\n",
    "\n",
    "# مثال للاستخدام\n",
    "account = BankAccount(\"ابراهيم محمد\")\n",
    "account.deposit(2000)\n",
    "account.withdraw(700)\n",
    "print(\"الرصيد النهائي:\", account.get_balance())"
   ]
  },
  {
   "cell_type": "markdown",
   "id": "864c7b0c-1eec-4001-b2c2-43d63284ae56",
   "metadata": {},
   "source": [
    "**3-Create two classes: Author and Book (composition).**\n",
    "The Book class should contain an instance of Author\n",
    "\n",
    "Attributes for Book: title, author (object), and price\n",
    "\n",
    "Method:\n",
    "\n",
    "display() – prints book details including author's name"
   ]
  },
  {
   "cell_type": "code",
   "execution_count": 6,
   "id": "c0cfda87-b8b9-4805-8114-12b8f710007d",
   "metadata": {},
   "outputs": [
    {
     "name": "stdout",
     "output_type": "stream",
     "text": [
      "عنوان الكتاب: فن الامبالاه\n",
      "المؤلف: مارك مانسون\n",
      "السعر: 100\n"
     ]
    }
   ],
   "source": [
    "class Author:\n",
    "    def __init__(self, name):\n",
    "        self.name = name\n",
    "\n",
    "class Book:\n",
    "    def __init__(self, title, author, price):\n",
    "        self.title = title\n",
    "        self.author = author  \n",
    "        self.price = price\n",
    "    \n",
    "    def display(self):\n",
    "        print(f\"عنوان الكتاب: {self.title}\")\n",
    "        print(f\"المؤلف: {self.author.name}\")\n",
    "        print(f\"السعر: {self.price}\")\n",
    "\n",
    "# مثال للاستخدام\n",
    "author = Author(\"مارك مانسون\")\n",
    "book = Book(\"فن الامبالاه\", author,100)\n",
    "book.display()"
   ]
  },
  {
   "cell_type": "markdown",
   "id": "ee854051-d189-4621-bddc-4b17565b5ac6",
   "metadata": {},
   "source": [
    "**4-Write a class TemperatureConverter.**\n",
    "Use static methods for:\n",
    "\n",
    "celsius_to_fahrenheit(c)\n",
    "\n",
    "fahrenheit_to_celsius(f)"
   ]
  },
  {
   "cell_type": "code",
   "execution_count": 8,
   "id": "7ea031b2-7140-407f-9aaa-70eb5f941fbb",
   "metadata": {},
   "outputs": [
    {
     "name": "stdout",
     "output_type": "stream",
     "text": [
      "32.0\n",
      "0.0\n"
     ]
    }
   ],
   "source": [
    "class TemperatureConverter:\n",
    "    @staticmethod\n",
    "    def celsius_to_fahrenheit(c):\n",
    "        return (c * 9/5) + 32\n",
    "\n",
    "    @staticmethod\n",
    "    def fahrenheit_to_celsius(f):\n",
    "        return (f - 32) * 5/9\n",
    "\n",
    "# مثال \n",
    "print(TemperatureConverter.celsius_to_fahrenheit(0))  \n",
    "print(TemperatureConverter.fahrenheit_to_celsius(32))  "
   ]
  },
  {
   "cell_type": "markdown",
   "id": "6dadee05-38d3-4350-b293-732b47fa7d34",
   "metadata": {},
   "source": [
    "**5-Create a base class Vehicle and derived class Bike.**\n",
    "\n",
    "Vehicle should have a method info()\n",
    "\n",
    "Bike should inherit from Vehicle and override info() method"
   ]
  },
  {
   "cell_type": "code",
   "execution_count": 12,
   "id": "822f4c62-11d0-4818-abed-f0781cc4dda2",
   "metadata": {},
   "outputs": [
    {
     "name": "stdout",
     "output_type": "stream",
     "text": [
      "Vehicles are used for transportation.\n",
      "A bike is a two-wheeled vehicle.\n"
     ]
    }
   ],
   "source": [
    "class Vehicle:\n",
    "    def info(self):\n",
    "        print(\"Vehicles are used for transportation.\")\n",
    "\n",
    "class Bike(Vehicle):\n",
    "    def info(self):\n",
    "        print(\"A bike is a two-wheeled vehicle.\")\n",
    "\n",
    "#مثال  \n",
    "vehicle = Vehicle()\n",
    "vehicle.info()  \n",
    "\n",
    "bike = Bike()\n",
    "bike.info()    "
   ]
  },
  {
   "cell_type": "markdown",
   "id": "87d3bfda-646e-4aa8-8ee5-50eedc814591",
   "metadata": {},
   "source": [
    "**6- Demonstrate multiple inheritance with Father and Mother classes.**\n",
    "\n",
    "Each class should have a skills() method\n",
    "\n",
    "Child class inherits from both and combines their skills"
   ]
  },
  {
   "cell_type": "code",
   "execution_count": 13,
   "id": "0d61ba1f-f200-4672-a571-cf8368931891",
   "metadata": {},
   "outputs": [
    {
     "name": "stdout",
     "output_type": "stream",
     "text": [
      "مهارات الطفل:\n",
      "الهندسه وكره القدم \n",
      "الطبخ والفنون التطبيقيه\n",
      "إضافة إلى الرسم\n"
     ]
    }
   ],
   "source": [
    "class Father:\n",
    "    def skills(self):\n",
    "        print(\"الهندسه وكره القدم \")\n",
    "\n",
    "class Mother:\n",
    "    def skills(self):\n",
    "        print(\"الطبخ والفنون التطبيقيه\")\n",
    "\n",
    "class Child(Father, Mother):\n",
    "    def skills(self):\n",
    "        Father.skills(self)\n",
    "        Mother.skills(self)\n",
    "        print(\"إضافة إلى الرسم\")\n",
    "\n",
    "# مثال للاستخدام\n",
    "child = Child()\n",
    "print(\"مهارات الطفل:\")\n",
    "child.skills()"
   ]
  },
  {
   "cell_type": "markdown",
   "id": "ad5767b0-aaac-4185-8b96-cfc4cf963d7a",
   "metadata": {},
   "source": [
    "**7-Replace all odd numbers in a NumPy array with -1**"
   ]
  },
  {
   "cell_type": "code",
   "execution_count": 47,
   "id": "9fff6c11-8d62-48aa-b537-00a309f92c73",
   "metadata": {},
   "outputs": [
    {
     "name": "stdout",
     "output_type": "stream",
     "text": [
      "المصفوفة الأصلية:\n",
      "[ 1  2  3  4  5  6  7  8  9 10]\n",
      "المصفوفة بعد التعديل:\n",
      "[-1  2 -1  4 -1  6 -1  8 -1 10]\n"
     ]
    }
   ],
   "source": [
    "import numpy as np\n",
    "\n",
    "arr = np.array([1, 2, 3, 4, 5, 6, 7, 8, 9, 10])\n",
    "print(\"المصفوفة الأصلية:\")\n",
    "print(arr)\n",
    "\n",
    "arr[arr % 2 != 0] = -1\n",
    "print(\"المصفوفة بعد التعديل:\")\n",
    "print(arr)"
   ]
  },
  {
   "cell_type": "code",
   "execution_count": null,
   "id": "88cac0f4-a3aa-4887-86e8-1b8d477d8d9a",
   "metadata": {},
   "outputs": [],
   "source": []
  }
 ],
 "metadata": {
  "kernelspec": {
   "display_name": "Python 3 (ipykernel)",
   "language": "python",
   "name": "python3"
  },
  "language_info": {
   "codemirror_mode": {
    "name": "ipython",
    "version": 3
   },
   "file_extension": ".py",
   "mimetype": "text/x-python",
   "name": "python",
   "nbconvert_exporter": "python",
   "pygments_lexer": "ipython3",
   "version": "3.9.7"
  }
 },
 "nbformat": 4,
 "nbformat_minor": 5
}
