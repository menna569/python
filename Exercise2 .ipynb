{
 "cells": [
  {
   "cell_type": "markdown",
   "id": "5e4c0be6-02ec-4e19-be30-f98eb81a5445",
   "metadata": {},
   "source": [
    "## Exercise No.2"
   ]
  },
  {
   "cell_type": "markdown",
   "id": "f89c27d6-d15c-482d-8913-b679e4b6c3fb",
   "metadata": {},
   "source": [
    "**1-. Write a program to check whether a person is eligibl (age over 18 year)e for voting or not. (accept age from user**)"
   ]
  },
  {
   "cell_type": "code",
   "execution_count": 1,
   "id": "08e34c11-8255-4438-99cb-969dafae65cc",
   "metadata": {},
   "outputs": [
    {
     "name": "stdin",
     "output_type": "stream",
     "text": [
      "Enter your age:  10\n"
     ]
    },
    {
     "name": "stdout",
     "output_type": "stream",
     "text": [
      "You are not eligible to vote.\n"
     ]
    }
   ],
   "source": [
    "age = int(input(\"Enter your age: \"))\n",
    "if age >= 18:\n",
    "    print(\"You are eligible to vote.\")\n",
    "else:\n",
    "    print(\"You are not eligible to vote.\")"
   ]
  },
  {
   "cell_type": "markdown",
   "id": "88198e9a-4bb2-435e-9f1a-f0f4b651e017",
   "metadata": {},
   "source": [
    "**2-Use range() to print all the even numbers from 0 to 10.**"
   ]
  },
  {
   "cell_type": "code",
   "execution_count": 3,
   "id": "05a8096f-f7bd-4f62-b905-649994127436",
   "metadata": {},
   "outputs": [
    {
     "name": "stdout",
     "output_type": "stream",
     "text": [
      "0\n",
      "2\n",
      "4\n",
      "6\n",
      "8\n",
      "10\n"
     ]
    }
   ],
   "source": [
    "for num in range(0, 11, 2):\n",
    "    print(num)"
   ]
  },
  {
   "cell_type": "markdown",
   "id": "7e2dd7b5-a4fe-422a-a0eb-39342b8eae16",
   "metadata": {},
   "source": [
    "**4-Use for, .split(), and if to create a Statement that will print out words that start with 's':**"
   ]
  },
  {
   "cell_type": "code",
   "execution_count": 10,
   "id": "d808396d-585c-41d0-b14a-1063513f8a2c",
   "metadata": {},
   "outputs": [],
   "source": [
    "st = 'Print only the words that start with s in this sentence'"
   ]
  },
  {
   "cell_type": "code",
   "execution_count": 7,
   "id": "0f441ee6-17b9-48e3-bfc3-26c08043294d",
   "metadata": {},
   "outputs": [
    {
     "name": "stdin",
     "output_type": "stream",
     "text": [
      "Enter a sentence:  SOHA\n"
     ]
    },
    {
     "name": "stdout",
     "output_type": "stream",
     "text": [
      "SOHA\n"
     ]
    }
   ],
   "source": [
    "sentence = input(\"Enter a sentence: \")\n",
    "for word in sentence.split():\n",
    "    if word.lower().startswith('s'):\n",
    "        print(word)"
   ]
  },
  {
   "cell_type": "markdown",
   "id": "88195511-f717-424c-9333-c65e4505b9af",
   "metadata": {},
   "source": [
    "**5-Write a Python program that accepts a word from the user and reverses it**."
   ]
  },
  {
   "cell_type": "raw",
   "id": "a803e607-99f6-4e12-a08f-fc9cfaa8c2f0",
   "metadata": {},
   "source": [
    "example:\n",
    "input : Input a word to reverse:  hello world\n",
    "output: dlrow olleh"
   ]
  },
  {
   "cell_type": "code",
   "execution_count": 21,
   "id": "ae77efcf-439d-4843-9340-0b50c7f6714e",
   "metadata": {},
   "outputs": [
    {
     "name": "stdin",
     "output_type": "stream",
     "text": [
      "Enter a word:  KERO\n"
     ]
    },
    {
     "name": "stdout",
     "output_type": "stream",
     "text": [
      "Reversed word: OREK\n"
     ]
    }
   ],
   "source": [
    "word = input(\"Enter a word: \")\n",
    "print(\"Reversed word:\", word[::-1])"
   ]
  },
  {
   "cell_type": "markdown",
   "id": "038fe8b9-b2fc-4a3a-bc24-7b3c56968389",
   "metadata": {},
   "source": [
    "**6-Write a Python program to count the number of even and odd numbers in a series of numbers** ers : 4"
   ]
  },
  {
   "cell_type": "raw",
   "id": "57b80153-3fee-4b1a-a715-03f82e5ab05f",
   "metadata": {},
   "source": [
    "\n",
    "Sample numbers : numbers = (1, 2, 3, 4, 5, 6, 7, 8, ) \n",
    "\n",
    "Expected Output :\n",
    "\n",
    "Number of even numbers : 5\n",
    "Number of odd numbers : 4"
   ]
  },
  {
   "cell_type": "code",
   "execution_count": 11,
   "id": "fc3f5240-5801-41db-add1-967456795551",
   "metadata": {},
   "outputs": [
    {
     "name": "stdout",
     "output_type": "stream",
     "text": [
      "Even numbers: 5\n",
      "Odd numbers: 5\n"
     ]
    }
   ],
   "source": [
    "numbers = [1, 2, 3, 4, 5, 6, 7, 8, 9, 10]\n",
    "even_count = 0\n",
    "odd_count = 0\n",
    "\n",
    "for num in numbers:\n",
    "    if num % 2 == 0:\n",
    "        even_count += 1\n",
    "    else:\n",
    "        odd_count += 1\n",
    "\n",
    "print(\"Even numbers:\", even_count)\n",
    "print(\"Odd numbers:\", odd_count)"
   ]
  },
  {
   "cell_type": "markdown",
   "id": "04493004-08ed-41ed-90aa-edc6f2172337",
   "metadata": {},
   "source": [
    "**7-Write a Python program that iterates the integers from 1 to 50. For multiples of three print \"Fizz\" instead of the number and for multiples of five print \"Buzz\". For numbers that are multiples of three and five, print \"FizzBuzz\".**"
   ]
  },
  {
   "cell_type": "raw",
   "id": "568ae5c6-a16f-4d8f-8f65-44f006033b2f",
   "metadata": {},
   "source": [
    "Sample Output :\n",
    "\n",
    "fizzbuzz\n",
    "1\n",
    "2\n",
    "fizz\n",
    "4\n",
    "buzz"
   ]
  },
  {
   "cell_type": "code",
   "execution_count": 13,
   "id": "cd431394-1146-48ca-aec1-133ed7573cfa",
   "metadata": {},
   "outputs": [
    {
     "name": "stdout",
     "output_type": "stream",
     "text": [
      "1\n",
      "2\n",
      "Fizz\n",
      "4\n",
      "Buzz\n",
      "Fizz\n",
      "7\n",
      "8\n",
      "Fizz\n",
      "Buzz\n",
      "11\n",
      "Fizz\n",
      "13\n",
      "14\n",
      "FizzBuzz\n",
      "16\n",
      "17\n",
      "Fizz\n",
      "19\n",
      "Buzz\n",
      "Fizz\n",
      "22\n",
      "23\n",
      "Fizz\n",
      "Buzz\n",
      "26\n",
      "Fizz\n",
      "28\n",
      "29\n",
      "FizzBuzz\n",
      "31\n",
      "32\n",
      "Fizz\n",
      "34\n",
      "Buzz\n",
      "Fizz\n",
      "37\n",
      "38\n",
      "Fizz\n",
      "Buzz\n",
      "41\n",
      "Fizz\n",
      "43\n",
      "44\n",
      "FizzBuzz\n",
      "46\n",
      "47\n",
      "Fizz\n",
      "49\n",
      "Buzz\n"
     ]
    }
   ],
   "source": [
    "for i in range(1, 51):\n",
    "    if i % 3 == 0 and i % 5 == 0:\n",
    "        print(\"FizzBuzz\")\n",
    "    elif i % 3 == 0:\n",
    "        print(\"Fizz\")\n",
    "    elif i % 5 == 0:\n",
    "        print(\"Buzz\")\n",
    "    else:\n",
    "        print(i)"
   ]
  },
  {
   "cell_type": "markdown",
   "id": "04f47be7-57ea-4ded-8465-acd37978d577",
   "metadata": {},
   "source": [
    "**8. Write a program to calculate the electricity bill (accept number of unit from user) according to the following criteria :**"
   ]
  },
  {
   "cell_type": "raw",
   "id": "2fea2ccc-2846-4a65-acd4-293242847901",
   "metadata": {},
   "source": [
    "             Unit                                                     Price  \n",
    "First 100 units                                               no charge\n",
    "Next 100 units                                              Rs 5 per unit\n",
    "After 200 units                                             Rs 10 per unit\n",
    "(For example if input unit is 350 than total bill amount is Rs2000)"
   ]
  },
  {
   "cell_type": "code",
   "execution_count": 15,
   "id": "3fa95086-bca7-4805-8456-2bd0ca08934a",
   "metadata": {},
   "outputs": [
    {
     "name": "stdin",
     "output_type": "stream",
     "text": [
      "Enter number of units:  5\n"
     ]
    },
    {
     "name": "stdout",
     "output_type": "stream",
     "text": [
      "Electricity Bill: ₹ 7.5\n"
     ]
    }
   ],
   "source": [
    "units = int(input(\"Enter number of units: \"))\n",
    "if units <= 100:\n",
    "    bill = units * 1.5\n",
    "elif units <= 200:\n",
    "    bill = (100 * 1.5) + (units - 100) * 2.5\n",
    "elif units <= 300:\n",
    "    bill = (100 * 1.5) + (100 * 2.5) + (units - 200) * 4\n",
    "else:\n",
    "    bill = (100 * 1.5) + (100 * 2.5) + (100 * 4) + (units - 300) * 6\n",
    "\n",
    "print(\"Electricity Bill: ₹\", bill)"
   ]
  },
  {
   "cell_type": "markdown",
   "id": "db79fd91-2592-40d8-8174-73a8924128be",
   "metadata": {},
   "source": [
    "**9-Handle the exception thrown by the code below by using try and except blocks.**"
   ]
  },
  {
   "cell_type": "code",
   "execution_count": 17,
   "id": "d86458cc-ca03-4891-87c4-de388318aaa0",
   "metadata": {},
   "outputs": [
    {
     "name": "stdout",
     "output_type": "stream",
     "text": [
      "Error: Division by zero is not allowed.\n"
     ]
    }
   ],
   "source": [
    "try:\n",
    "    x = 5 / 0\n",
    "except ZeroDivisionError:\n",
    "    print(\"Error: Division by zero is not allowed.\")"
   ]
  },
  {
   "cell_type": "markdown",
   "id": "ad723da5-8966-4637-889a-59d1256610a3",
   "metadata": {},
   "source": [
    "**10-create your module \"MyTemp\" which contain two function :**\n",
    "\n",
    "1.fahrenheit_to_celsius : its equation (Temperature in degrees Fahrenheit (°F) = (Temperature in degrees Celsius (°C) * 9/5) + 32)\n",
    "\n",
    "2.celsius_to_fahrenheit: its equation (Temperature in degrees Celsius (°C) = (Temperature in degrees Fahrenheit (°F) - 32) * 5/9)\n"
   ]
  },
  {
   "cell_type": "code",
   "execution_count": 19,
   "id": "2b3682aa-bccd-47e4-967b-889854521686",
   "metadata": {},
   "outputs": [
    {
     "name": "stdout",
     "output_type": "stream",
     "text": [
      "37.77777777777778\n",
      "98.6\n"
     ]
    }
   ],
   "source": [
    "import MyTemp\n",
    "\n",
    "print(MyTemp.fahrenheit_to_celsius(100))\n",
    "print(MyTemp.celsius_to_fahrenheit(37))"
   ]
  }
 ],
 "metadata": {
  "kernelspec": {
   "display_name": "Python [conda env:base] *",
   "language": "python",
   "name": "conda-base-py"
  },
  "language_info": {
   "codemirror_mode": {
    "name": "ipython",
    "version": 3
   },
   "file_extension": ".py",
   "mimetype": "text/x-python",
   "name": "python",
   "nbconvert_exporter": "python",
   "pygments_lexer": "ipython3",
   "version": "3.12.7"
  }
 },
 "nbformat": 4,
 "nbformat_minor": 5
}
